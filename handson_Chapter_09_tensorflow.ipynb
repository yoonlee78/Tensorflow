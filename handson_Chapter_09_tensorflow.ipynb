{
  "nbformat": 4,
  "nbformat_minor": 0,
  "metadata": {
    "colab": {
      "name": "Chapter 09_tensorflow.ipynb",
      "version": "0.3.2",
      "provenance": [],
      "include_colab_link": true
    },
    "kernelspec": {
      "name": "python3",
      "display_name": "Python 3"
    }
  },
  "cells": [
    {
      "cell_type": "markdown",
      "metadata": {
        "id": "view-in-github",
        "colab_type": "text"
      },
      "source": [
        "[View in Colaboratory](https://colab.research.google.com/github/yoonlee78/Tensorflow/blob/master/handson_Chapter_09_tensorflow.ipynb)"
      ]
    },
    {
      "metadata": {
        "id": "PxVm4WE52Jqi",
        "colab_type": "code",
        "colab": {}
      },
      "cell_type": "code",
      "source": [
        "from google.colab import files\n",
        "from IPython.display import Image"
      ],
      "execution_count": 0,
      "outputs": []
    },
    {
      "metadata": {
        "id": "roqZuz6Ww642",
        "colab_type": "code",
        "colab": {
          "resources": {
            "http://localhost:8080/nbextensions/google.colab/files.js": {
              "data": "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",
              "ok": true,
              "headers": [
                [
                  "content-type",
                  "application/javascript"
                ]
              ],
              "status": 200,
              "status_text": ""
            }
          },
          "base_uri": "https://localhost:8080/",
          "height": 38
        },
        "outputId": "aee043f0-b7b2-4aea-89e1-5333d65e30a8"
      },
      "cell_type": "code",
      "source": [
        "uploaded = files.upload()"
      ],
      "execution_count": 7,
      "outputs": [
        {
          "output_type": "display_data",
          "data": {
            "text/html": [
              "\n",
              "     <input type=\"file\" id=\"files-e76669a4-fe17-4dd7-8dad-4d28cbec7ced\" name=\"files[]\" multiple disabled />\n",
              "     <output id=\"result-e76669a4-fe17-4dd7-8dad-4d28cbec7ced\">\n",
              "      Upload widget is only available when the cell has been executed in the\n",
              "      current browser session. Please rerun this cell to enable.\n",
              "      </output>\n",
              "      <script src=\"/nbextensions/google.colab/files.js\"></script> "
            ],
            "text/plain": [
              "<IPython.core.display.HTML object>"
            ]
          },
          "metadata": {
            "tags": []
          }
        }
      ]
    },
    {
      "metadata": {
        "id": "01KBQiEAx7Uy",
        "colab_type": "text"
      },
      "cell_type": "markdown",
      "source": [
        "![Tensorflow](data:image/jpeg;base64,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)"
      ]
    },
    {
      "metadata": {
        "id": "-rRYwEGSnrLf",
        "colab_type": "text"
      },
      "cell_type": "markdown",
      "source": [
        "# **9장 텐서플로 시작하기**\n",
        "\n",
        "TensorFlow\n",
        "\n",
        " - 수치 계산을 위한 오픈소스 소프트웨어 라이브러리\n",
        " - 대규모 머신러닝에 맞춰 잘 튜닝되어있음\n",
        " - 구글 브레인 (Google Brain)팀에서 개발,  구글 클라우드 스피치 (Google Cloud Speech, Google Photos, Google Search 등의 대규모 서비스 지원)\n",
        " \n",
        " 원리: \n",
        " \n",
        " 1. 파이썬으로 수행할 Computation graph (계산 그래프) 정의 \n",
        " 2. TensorFlow가 최적화된 C++ 코드를 사용해 이 그래프를 효율적으로 실행\n",
        " \n",
        " ----\n",
        " "
      ]
    },
    {
      "metadata": {
        "id": "z83xOL31omZt",
        "colab_type": "text"
      },
      "cell_type": "markdown",
      "source": [
        "장점 1.\n",
        "\n",
        "- 병렬 실행 (CPU + GPU)\n",
        "- 분산 컴퓨팅 지원 (수백 대의 서버에 계산을 나누어 길지 않은 시간 안에(in a reasonable amount of time) 대규모 데이터셋으로 거대한 신경망 훈련 가능)\n",
        "\n",
        "장점 2. (책 내용 발췌)\n",
        "\n",
        "- **Windows, Linux, and macOS, but also on mobile devices, including both iOS and Android**.\n",
        "-**TF.Learn** \n",
        "- **TF-slim** \n",
        "- API **Keras or Pretty Tensor**.<br>\n",
        "- **more flexibility** (at the cost of higher complexity) to create all sorts of computations, including any neural network architecture you can think of.<br>\n",
        "- highly **efficient C++ implementations of many ML operations** <br>\n",
        "- <b>automatic differentiating (or autodiff)</b>.<br>\n",
        "- **TensorBoard **(visualization tool)\n",
        "\n",
        "> • Google also launched a cloud service to run TensorFlow graphs. <br>\n",
        "• more great projects are being built on top of it (for examples, check out the resources page on https://www.tensorflow.org/, or https://github.com/jtoy/awesome-tensorflow). <br> To ask technical questions, you should use http://stackoverflow.com/ and tag your question with \"tensorflow\". You can file bugs and feature requests through GitHub. <br> For general discussions, join the Google group.<br>\n",
        "\n",
        "\n"
      ]
    },
    {
      "metadata": {
        "id": "csV_jVvaxVHE",
        "colab_type": "code",
        "colab": {
          "base_uri": "https://localhost:8080/",
          "height": 34
        },
        "outputId": "97031479-f5da-4d50-f1d8-eac1d7d90285"
      },
      "cell_type": "code",
      "source": [
        "Image(\"libraries list.png\", width=600)"
      ],
      "execution_count": 8,
      "outputs": [
        {
          "output_type": "execute_result",
          "data": {
            "image/png": "libraries list.png",
            "text/plain": [
              "<IPython.core.display.Image object>"
            ]
          },
          "metadata": {
            "tags": [],
            "image/png": {
              "width": 600
            }
          },
          "execution_count": 8
        }
      ]
    },
    {
      "metadata": {
        "id": "jP8lwBo4vHzK",
        "colab_type": "code",
        "colab": {
          "base_uri": "https://localhost:8080/",
          "height": 34
        },
        "outputId": "e57cc064-4cdd-4d26-8d0a-e7d808f16869"
      },
      "cell_type": "code",
      "source": [
        "9.1 "
      ],
      "execution_count": 9,
      "outputs": [
        {
          "output_type": "execute_result",
          "data": {
            "text/plain": [
              "9.1"
            ]
          },
          "metadata": {
            "tags": []
          },
          "execution_count": 9
        }
      ]
    },
    {
      "metadata": {
        "id": "kSkxGSx1yT_m",
        "colab_type": "text"
      },
      "cell_type": "markdown",
      "source": [
        "## 9.1 설치\n",
        "### **colab에서는 간단히 import만해도 가능함** <br>\n",
        "### 그 외: \n",
        "\n",
        "\n",
        "```\n",
        "# 가상환경 (virtualenv) -> 주피터 노트북\n",
        "pip install --upgrade tensorflow\n",
        "```\n",
        "gpu를 사용하려면 tensorflow대신 tensorflow-gpu 설치.\n"
      ]
    },
    {
      "metadata": {
        "id": "Sk23wVA6yRz9",
        "colab_type": "code",
        "colab": {}
      },
      "cell_type": "code",
      "source": [
        "import tensorflow"
      ],
      "execution_count": 0,
      "outputs": []
    },
    {
      "metadata": {
        "id": "lNHjHelizGh5",
        "colab_type": "code",
        "colab": {
          "base_uri": "https://localhost:8080/",
          "height": 51
        },
        "outputId": "65292cd8-7226-42f9-a8e9-952e2091ca40"
      },
      "cell_type": "code",
      "source": [
        "# 버전 확인\n",
        "!python3 -c 'import tensorflow; print(tensorflow.__version__)"
      ],
      "execution_count": 11,
      "outputs": [
        {
          "output_type": "stream",
          "text": [
            "/bin/bash: -c: line 0: unexpected EOF while looking for matching `''\n",
            "/bin/bash: -c: line 1: syntax error: unexpected end of file\n"
          ],
          "name": "stdout"
        }
      ]
    },
    {
      "metadata": {
        "id": "K8kbQv1V4q83",
        "colab_type": "text"
      },
      "cell_type": "markdown",
      "source": [
        "*SETUP* "
      ]
    },
    {
      "metadata": {
        "id": "-NdgXH6R4pk-",
        "colab_type": "code",
        "colab": {}
      },
      "cell_type": "code",
      "source": [
        "#to support both python2 and python3\n",
        "\n",
        "from __future__ import division, print_function, unicode_literals\n",
        "\n",
        "#common imports\n",
        "\n",
        "import numpy as np\n",
        "import os\n",
        "\n",
        "# to make this notebook's output stable across runs\n",
        "\n",
        "def reset_graph(seed = 42):\n",
        "  tf.reset_default_graph()\n",
        "  tf.set_random_seed(seed)\n",
        "  np.random.seed(seed)\n",
        "  \n",
        "# to plot pretty figures\n",
        "%matplotlib inline\n",
        "import matplotlib\n",
        "import matplotlib.pyplot as plt\n",
        "\n",
        "plt.rcParams['axes.labelsize'] = 14\n",
        "plt.rcParams['xtick.labelsize'] = 12\n",
        "plt.rcParams['ytick.labelsize'] = 12\n",
        "\n",
        "#Where to save the figures\n",
        "PROJECT_ROOT_DIR = \".\"\n",
        "CHAPTER_ID = \"tensorflow\"\n",
        "\n",
        "def save_fig(fig_id, tight_layout = True):\n",
        "  path = os.path.join(PROJECT_ROOT_DIR, \"images\", CHAPTER_ID, fig_id + \".png\")\n",
        "  print(\"Saving figure\", fig_id)\n",
        "  if tight_layout:\n",
        "    plt.tight_layout()\n",
        "  plt.savefig(path, format = 'png', dpi = 300)\n",
        "  "
      ],
      "execution_count": 0,
      "outputs": []
    },
    {
      "metadata": {
        "id": "OTMgOvjU19G0",
        "colab_type": "text"
      },
      "cell_type": "markdown",
      "source": [
        "**9.2  Our First Computational Graph & Run **\n"
      ]
    },
    {
      "metadata": {
        "id": "D6Fi9ntY2J5Q",
        "colab_type": "code",
        "colab": {}
      },
      "cell_type": "code",
      "source": [
        "import tensorflow as tf\n",
        "\n",
        "#reset_graph()\n",
        "\n",
        "x = tf.Variable(3, name = 'x')\n",
        "y = tf.Variable(4, name = 'y')\n",
        "f = x*x*y + y + 2"
      ],
      "execution_count": 0,
      "outputs": []
    },
    {
      "metadata": {
        "id": "me0R1WxJ215g",
        "colab_type": "code",
        "colab": {
          "base_uri": "https://localhost:8080/",
          "height": 34
        },
        "outputId": "2a2b7792-f355-4e44-eb4d-0ef22adaf016"
      },
      "cell_type": "code",
      "source": [
        "f"
      ],
      "execution_count": 19,
      "outputs": [
        {
          "output_type": "execute_result",
          "data": {
            "text/plain": [
              "<tf.Tensor 'add_13:0' shape=() dtype=int32>"
            ]
          },
          "metadata": {
            "tags": []
          },
          "execution_count": 19
        }
      ]
    },
    {
      "metadata": {
        "id": "Aef-6hS08m4-",
        "colab_type": "code",
        "colab": {
          "base_uri": "https://localhost:8080/",
          "height": 34
        },
        "outputId": "704386ae-38c8-40bd-c0b0-43a39b9493b9"
      },
      "cell_type": "code",
      "source": [
        "sess = tf.Session()\n",
        "sess.run(x.initializer)\n",
        "sess.run(y.initializer)\n",
        "result = sess.run(f)\n",
        "print(result)"
      ],
      "execution_count": 20,
      "outputs": [
        {
          "output_type": "stream",
          "text": [
            "42\n"
          ],
          "name": "stdout"
        }
      ]
    },
    {
      "metadata": {
        "id": "ppKXl2ro8v7_",
        "colab_type": "code",
        "colab": {}
      },
      "cell_type": "code",
      "source": [
        "#기타 분산환경에서의 세션 지정 및 관리는 12단원에서"
      ],
      "execution_count": 0,
      "outputs": []
    },
    {
      "metadata": {
        "id": "-fT2EqkI9p6H",
        "colab_type": "text"
      },
      "cell_type": "markdown",
      "source": [
        "**9.3 계산 그래프 관리**\n"
      ]
    },
    {
      "metadata": {
        "id": "g9ik86gA-tte",
        "colab_type": "text"
      },
      "cell_type": "markdown",
      "source": [
        "노드를 만들면 자동으로 기본 계산 그래프에 추가됨. \n"
      ]
    },
    {
      "metadata": {
        "id": "_bLhZPW99x7p",
        "colab_type": "code",
        "colab": {
          "base_uri": "https://localhost:8080/",
          "height": 34
        },
        "outputId": "691f741c-357b-402a-faff-80d00bc31a87"
      },
      "cell_type": "code",
      "source": [
        "reset_graph()\n",
        "\n",
        "x1 = tf.Variable(1)\n",
        "x1.graph is tf.get_default_graph()"
      ],
      "execution_count": 22,
      "outputs": [
        {
          "output_type": "execute_result",
          "data": {
            "text/plain": [
              "True"
            ]
          },
          "metadata": {
            "tags": []
          },
          "execution_count": 22
        }
      ]
    },
    {
      "metadata": {
        "id": "AmQHu_mK-6d0",
        "colab_type": "text"
      },
      "cell_type": "markdown",
      "source": [
        "대부분 이걸로 충분하나, 가끔 독립적인 계산 그래프를 다수 생성해야할 경우, 새 graph 객체를 만든 후, with 블록 안에서 임시로 이를 기본 계산 그래프로 사용 가능"
      ]
    },
    {
      "metadata": {
        "id": "pMKJvopz_ZhC",
        "colab_type": "code",
        "colab": {
          "base_uri": "https://localhost:8080/",
          "height": 34
        },
        "outputId": "744d09e1-85c7-4310-c088-e5802634dd4a"
      },
      "cell_type": "code",
      "source": [
        "graph = tf.Graph()\n",
        "with graph.as_default():\n",
        "  x2 = tf.Variable(2)\n",
        "  \n",
        "x2.graph is graph"
      ],
      "execution_count": 27,
      "outputs": [
        {
          "output_type": "execute_result",
          "data": {
            "text/plain": [
              "True"
            ]
          },
          "metadata": {
            "tags": []
          },
          "execution_count": 27
        }
      ]
    },
    {
      "metadata": {
        "id": "jHao7Ow3_7cW",
        "colab_type": "text"
      },
      "cell_type": "markdown",
      "source": [
        "주피터 등의 작업환경에서 실험을 해봐야하는 경우, 같은 명령을 여러번 실행하는 경우가 많음.\n",
        "이렇게 하면 기본 그래프에 중복된 노드가 많이 포함되므로 주피터 커널(또는 파이썬 셀)을 다시 시작하는 것도 방법이긴하나, 더 편리한 방법은 tf.reset_default_graph()로 기본 그래프를 초기화해주는 것임. "
      ]
    },
    {
      "metadata": {
        "id": "QSfXmbyx_jvI",
        "colab_type": "code",
        "colab": {
          "base_uri": "https://localhost:8080/",
          "height": 34
        },
        "outputId": "319d9b5a-34dc-49e9-eb89-8ddc3f71ce33"
      },
      "cell_type": "code",
      "source": [
        "x2.graph is tf.get_default_graph()\n"
      ],
      "execution_count": 28,
      "outputs": [
        {
          "output_type": "execute_result",
          "data": {
            "text/plain": [
              "False"
            ]
          },
          "metadata": {
            "tags": []
          },
          "execution_count": 28
        }
      ]
    },
    {
      "metadata": {
        "id": "FoOROPF-AKMQ",
        "colab_type": "text"
      },
      "cell_type": "markdown",
      "source": [
        "## 9.4 노드 값의 생애 주기\n",
        "\n",
        "한 노드를 평가할 때 텐서플로는 이 노드가 의존하고 있는 다른 노드들을 자동으로 찾아 먼저 평가함. \n",
        "\n"
      ]
    },
    {
      "metadata": {
        "id": "BLI3RQbC_qRo",
        "colab_type": "code",
        "colab": {
          "base_uri": "https://localhost:8080/",
          "height": 51
        },
        "outputId": "625e9947-81ab-4fe7-d8de-7c9fb2022ec6"
      },
      "cell_type": "code",
      "source": [
        "#예시\n",
        "#간단한 그래프 정의 \n",
        "w = tf.constant(3)\n",
        "x = w +2 \n",
        "y = x + 5\n",
        "z = x*3\n",
        "\n",
        "#세션\n",
        "\n",
        "with tf.Session() as sess: #세션 시작\n",
        "  print(y.eval()) #y그래프 평가\n",
        " \n",
        "  print(z.eval()) #15"
      ],
      "execution_count": 29,
      "outputs": [
        {
          "output_type": "stream",
          "text": [
            "10\n",
            "15\n"
          ],
          "name": "stdout"
        }
      ]
    },
    {
      "metadata": {
        "id": "d7e70jad_tpz",
        "colab_type": "text"
      },
      "cell_type": "markdown",
      "source": [
        " 텐서플로는 자동으로 y가 x에 의존한다는 것과 x가 w에 의존한다는 것을 감지함. 그래서 먼저 w를 평가하고 그 다음에  x를, 그 다음에 y를 평가해서 y 값을 변환함. \n",
        " 마지막으로 z 평가를 위해 그래프를 실행. 다시 한번 텐서플로우는 먼저 w와 x를 평가해야한다는 것을 감지함. 이전에 평가된 w와 x를 재사용하지 않는다는 점이 중요** \n",
        " in sum, 위 코드는 w와 z를 두번 평가함. \n",
        " "
      ]
    },
    {
      "metadata": {
        "id": "ihKIM1XAQIYL",
        "colab_type": "text"
      },
      "cell_type": "markdown",
      "source": [
        "**  이전 코드에서처럼 w와 z를 두번 평가하지 않고, y와 z를 효율적으로 평가하려면 tf가 한 번의 그래프를 실행하면서 y와 z를 모두 평가하도록 만들어야함. \n"
      ]
    },
    {
      "metadata": {
        "id": "57-6_MhfQnve",
        "colab_type": "code",
        "colab": {
          "base_uri": "https://localhost:8080/",
          "height": 52
        },
        "outputId": "a5cd013b-8d26-49dd-d627-3557feb0183a"
      },
      "cell_type": "code",
      "source": [
        "with tf.Session() as sess:\n",
        "  y_val, z_val = sess.run([y,z])\n",
        "  print(y_val) #10\n",
        "  print(z_val) #15"
      ],
      "execution_count": 30,
      "outputs": [
        {
          "output_type": "stream",
          "text": [
            "10\n",
            "15\n"
          ],
          "name": "stdout"
        }
      ]
    },
    {
      "metadata": {
        "id": "IQw84332RW5u",
        "colab_type": "text"
      },
      "cell_type": "markdown",
      "source": [
        "## 9.5 Tensorflow 를 이용한 선형회귀 연산(operation)\n",
        "\n",
        "ops (tensorflow operation, 텐서플로 연산)\n",
        "- 여러개의 입력을 받아 출력을 만들 수 있음.  (e.g., 덧셈과 곱셈 연산은 두 개의 입력을 받아 하나의 출력을 만듦)\n",
        "\n",
        "source ops (소스 연산): 상수와 변수 연산은 입력이 없음\n",
        "\n",
        "입력과 출력은 tensor (텐서)라는 다차원 배열.\n",
        "\n",
        "넘파이 배열과 비슷하게 텐서는 데이터 타입과 크기를 가짐. \n",
        "(파이썬 API에서 텐서를 평가한 결과는 넘파이 배열로 변환됨(ndarray))\n",
        "\n",
        "보통은 float(실수)로 채워지나, 문자열(임의의 바이트 배열)을 저장할 수 있음. \n",
        "\n"
      ]
    },
    {
      "metadata": {
        "id": "QyebhC-USNFN",
        "colab_type": "text"
      },
      "cell_type": "markdown",
      "source": [
        "Example dataset.\n",
        "\n",
        "Price of california housing\n",
        "\n",
        "- 선형회귀 수행을 위해 2D 배열을 다룸\n",
        "- 데이터셋 추출 후 모든 훈련 샘플 편향에 대한 입력 특성(x0 = 1)을 추가함 (이 부분은 numpy를 사용하므로 즉시 실행됨)\n",
        "- 2개의 tf constant node x 와 y를 생성, data 와 target을 담는다. \n",
        "- 행렬 연산을 사용해 theta 정의.  (필요한 행렬 함수는 transpose(), matmul(), matrix_inverse(), 하지만 이 함수들은 계산을 즉각 수행하지 않음. 대신 그래프가 실행될 때 계산을 수행할 노드를 생성함. theta의 정의는 정규방정식, 4장 참조). \n",
        "- 마지막으로 코드는 세션을 생성, theta를 평가함. "
      ]
    },
    {
      "metadata": {
        "id": "IYxNh9ShUQTl",
        "colab_type": "code",
        "colab": {}
      },
      "cell_type": "code",
      "source": [
        "import sklearn.datasets"
      ],
      "execution_count": 0,
      "outputs": []
    },
    {
      "metadata": {
        "id": "94U_j-2ETbM9",
        "colab_type": "code",
        "colab": {
          "base_uri": "https://localhost:8080/",
          "height": 54
        },
        "outputId": "4dcfdfcb-3c46-4950-821e-d01cfeab669c"
      },
      "cell_type": "code",
      "source": [
        "import numpy as np\n",
        "from sklearn.datasets import fetch_california_housing\n",
        "\n",
        "reset_graph()\n",
        "\n",
        "housing = fetch_california_housing()\n",
        "m, n = housing.data.shape\n",
        "housing_with_bias = np.c_[np.ones((m,1)), housing.data]\n",
        "\n",
        "X = tf.constant(housing_with_bias, dtype =tf.float32, name = \"X\")\n",
        "\n",
        "y = tf.constant(housing.target.reshape(-1,1), dtype = tf.float32, name = \"y\")\n",
        "\n",
        "XT = tf.transpose(X)\n",
        "theta = tf.matmul(tf.matmul(tf.matrix_inverse(tf.matmul(XT,X)),XT),y)\n",
        "\n",
        "with tf.Session() as sess:\n",
        "  theta_value = theta.eval()"
      ],
      "execution_count": 35,
      "outputs": [
        {
          "output_type": "stream",
          "text": [
            "Downloading Cal. housing from https://ndownloader.figshare.com/files/5976036 to /root/scikit_learn_data\n"
          ],
          "name": "stderr"
        }
      ]
    },
    {
      "metadata": {
        "id": "-F4VmUA1ULSG",
        "colab_type": "code",
        "colab": {}
      },
      "cell_type": "code",
      "source": [
        ""
      ],
      "execution_count": 0,
      "outputs": []
    }
  ]
}